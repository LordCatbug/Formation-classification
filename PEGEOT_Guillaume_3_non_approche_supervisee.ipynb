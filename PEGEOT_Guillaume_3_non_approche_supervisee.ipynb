{
 "cells": [
  {
   "cell_type": "code",
   "execution_count": 32,
   "metadata": {},
   "outputs": [],
   "source": [
    "import pandas as pd\n",
    "from sklearn.preprocessing import LabelEncoder\n",
    "from sklearn.model_selection import train_test_split\n",
    "from sklearn.naive_bayes import MultinomialNB\n",
    "from sklearn.metrics import accuracy_score, classification_report\n",
    "import numpy as np\n",
    "import matplotlib.pyplot as plt\n",
    "from sklearn.preprocessing import MultiLabelBinarizer\n",
    "from transformers import TFBertForSequenceClassification\n",
    "import tensorflow as tf\n",
    "\n",
    "import gensim\n",
    "from gensim.models import Word2Vec\n",
    "import gensim.corpora as corpora\n",
    "from gensim.models import TfidfModel, CoherenceModel, LdaMulticore\n",
    "from gensim import models\n",
    "from gensim.utils import simple_preprocess\n",
    "import logging\n",
    "logging.basicConfig(format='%(asctime)s : %(levelname)s : %(message)s', level=logging.ERROR)\n",
    "import warnings\n",
    "warnings.filterwarnings(\"ignore\",category=DeprecationWarning)"
   ]
  },
  {
   "cell_type": "code",
   "execution_count": 33,
   "metadata": {},
   "outputs": [],
   "source": [
    "data = pd.read_csv(\"data_bag.csv\")\n",
    "\n",
    "import ast\n",
    "\n",
    "def convert_tags(tag_str):\n",
    "    \"\"\"\n",
    "    Convertit une chaîne de caractères représentant une liste de tags en une liste de tags.\n",
    "\n",
    "    Args:\n",
    "        tag_str (str): Chaîne de caractères représentant une liste de tags.\n",
    "\n",
    "    Returns:\n",
    "        list: Liste des tags.\n",
    "    \"\"\"\n",
    "    tags_list = ast.literal_eval(tag_str)\n",
    "    return tags_list\n",
    "\n",
    "data['Tags'] = data['Tags'].apply(convert_tags)\n",
    "\n",
    "# Compter les occurrences de chaque tag\n",
    "tag_counts = {}\n",
    "for row in data['Tags']:\n",
    "    for tag in row:\n",
    "        if tag in tag_counts:\n",
    "            tag_counts[tag] += 1\n",
    "        else:\n",
    "            tag_counts[tag] = 1\n",
    "\n",
    "# Convertir en DataFrame pour faciliter le tri\n",
    "tag_counts_df = pd.DataFrame(list(tag_counts.items()), columns=['tag', 'count'])\n",
    "# Appliquer la fonction de conversion à chaque élément de la colonne 'Tags'\n",
    "data['Title'] = data['Title'].str.split(\" \")\n",
    "data = data.drop('Id', axis=1)"
   ]
  },
  {
   "cell_type": "code",
   "execution_count": 34,
   "metadata": {},
   "outputs": [
    {
     "name": "stdout",
     "output_type": "stream",
     "text": [
      "Les 100 tags les plus fréquents : ['python', 'javascript', 'java', 'reactjs', 'android', 'c++', 'node.js', 'r', 'c#', 'flutter', 'html', 'typescript', 'pandas', 'ios', 'docker', 'python-3.x', 'swift', 'css', 'spring-boot', 'kotlin', 'dataframe', 'amazon-web-services', 'php', 'react-native', 'dart', 'firebase', 'vue.js', 'arrays', 'django', 'angular', 'spring', 'c', 'next.js', 'azure', 'git', 'numpy', 'json', 'tensorflow', 'kubernetes', 'linux', 'swiftui', 'macos', 'github', 'windows', 'asp.net-core', 'algorithm', 'postgresql', 'sql', 'visual-studio-code', 'android-studio', 'laravel', 'xcode', 'apache-spark', 'npm', 'android-jetpack-compose', 'jquery', 'performance', 'mongodb', 'webpack', 'multithreading', 'pyspark', 'express', 'keras', 'machine-learning', 'docker-compose', 'list', 'gradle', 'google-cloud-platform', 'excel', 'pytorch', 'selenium', 'c++20', 'react-hooks', 'mysql', 'dplyr', 'wordpress', 'unit-testing', 'go', 'api', 'jestjs', 'powershell', 'string', 'deep-learning', 'opencv', 'matplotlib', 'maven', 'language-lawyer', 'ssh', 'gitlab', 'function', 'database', 'google-chrome', 'vuejs3', 'authentication', 'google-cloud-firestore', 'aws-lambda', 'bash', 'scala', 'apple-m1', 'templates']\n"
     ]
    }
   ],
   "source": [
    "top_number = 100\n",
    "# Trier par ordre décroissant de fréquence\n",
    "tag_counts_df = tag_counts_df.sort_values(by='count', ascending=False)\n",
    "\n",
    "# Sélectionner les 100 tags les plus fréquents\n",
    "top_tags = tag_counts_df.head(top_number)['tag'].tolist()\n",
    "\n",
    "# Filtrer les tags dans votre DataFrame d'origine pour ne garder que les 100 tags les plus fréquents\n",
    "data['Tags'] = data['Tags'].apply(lambda x: [tag for tag in x if tag in top_tags])\n",
    "\n",
    "# Afficher les 100 tags les plus fréquents\n",
    "print(\"Les\",top_number,\"tags les plus fréquents :\", top_tags)\n",
    "\n",
    "# des tags se retouvent vide => on retire les individus\n",
    "data = data[data['Tags'].apply(len) > 0]"
   ]
  },
  {
   "cell_type": "code",
   "execution_count": 35,
   "metadata": {},
   "outputs": [
    {
     "data": {
      "text/html": [
       "<div>\n",
       "<style scoped>\n",
       "    .dataframe tbody tr th:only-of-type {\n",
       "        vertical-align: middle;\n",
       "    }\n",
       "\n",
       "    .dataframe tbody tr th {\n",
       "        vertical-align: top;\n",
       "    }\n",
       "\n",
       "    .dataframe thead th {\n",
       "        text-align: right;\n",
       "    }\n",
       "</style>\n",
       "<table border=\"1\" class=\"dataframe\">\n",
       "  <thead>\n",
       "    <tr style=\"text-align: right;\">\n",
       "      <th></th>\n",
       "      <th>Title</th>\n",
       "      <th>Tags</th>\n",
       "    </tr>\n",
       "  </thead>\n",
       "  <tbody>\n",
       "    <tr>\n",
       "      <th>0</th>\n",
       "      <td>[construct, object, alloc, stdallocatoralloc]</td>\n",
       "      <td>[c++, c++20]</td>\n",
       "    </tr>\n",
       "    <tr>\n",
       "      <th>1</th>\n",
       "      <td>[react, router, block, rout, chang, createbrow...</td>\n",
       "      <td>[javascript, reactjs]</td>\n",
       "    </tr>\n",
       "    <tr>\n",
       "      <th>3</th>\n",
       "      <td>[flutter, firebas, control, notif, show, app, ...</td>\n",
       "      <td>[ios, flutter]</td>\n",
       "    </tr>\n",
       "    <tr>\n",
       "      <th>4</th>\n",
       "      <td>[roll, idxminmax, panda, datafram]</td>\n",
       "      <td>[python, pandas, dataframe]</td>\n",
       "    </tr>\n",
       "    <tr>\n",
       "      <th>5</th>\n",
       "      <td>[process, finish, exit, code, interrupt, signa...</td>\n",
       "      <td>[python, pandas, numpy]</td>\n",
       "    </tr>\n",
       "    <tr>\n",
       "      <th>6</th>\n",
       "      <td>[tri, read, regist, valu, process, task_struct]</td>\n",
       "      <td>[c]</td>\n",
       "    </tr>\n",
       "    <tr>\n",
       "      <th>7</th>\n",
       "      <td>[anchor, link, work, properli, desktop, work, ...</td>\n",
       "      <td>[javascript, html, css]</td>\n",
       "    </tr>\n",
       "    <tr>\n",
       "      <th>8</th>\n",
       "      <td>[uwsgi, error, pcre, ubuntu, 2004, error, load...</td>\n",
       "      <td>[python-3.x]</td>\n",
       "    </tr>\n",
       "    <tr>\n",
       "      <th>9</th>\n",
       "      <td>[error, could, deseri, data, use, algorithm, d...</td>\n",
       "      <td>[django]</td>\n",
       "    </tr>\n",
       "    <tr>\n",
       "      <th>10</th>\n",
       "      <td>[cant, scrape, compani, name, webpag]</td>\n",
       "      <td>[python, python-3.x]</td>\n",
       "    </tr>\n",
       "  </tbody>\n",
       "</table>\n",
       "</div>"
      ],
      "text/plain": [
       "                                                Title  \\\n",
       "0       [construct, object, alloc, stdallocatoralloc]   \n",
       "1   [react, router, block, rout, chang, createbrow...   \n",
       "3   [flutter, firebas, control, notif, show, app, ...   \n",
       "4                  [roll, idxminmax, panda, datafram]   \n",
       "5   [process, finish, exit, code, interrupt, signa...   \n",
       "6     [tri, read, regist, valu, process, task_struct]   \n",
       "7   [anchor, link, work, properli, desktop, work, ...   \n",
       "8   [uwsgi, error, pcre, ubuntu, 2004, error, load...   \n",
       "9   [error, could, deseri, data, use, algorithm, d...   \n",
       "10              [cant, scrape, compani, name, webpag]   \n",
       "\n",
       "                           Tags  \n",
       "0                  [c++, c++20]  \n",
       "1         [javascript, reactjs]  \n",
       "3                [ios, flutter]  \n",
       "4   [python, pandas, dataframe]  \n",
       "5       [python, pandas, numpy]  \n",
       "6                           [c]  \n",
       "7       [javascript, html, css]  \n",
       "8                  [python-3.x]  \n",
       "9                      [django]  \n",
       "10         [python, python-3.x]  "
      ]
     },
     "execution_count": 35,
     "metadata": {},
     "output_type": "execute_result"
    }
   ],
   "source": [
    "data.head(10)"
   ]
  },
  {
   "cell_type": "code",
   "execution_count": 28,
   "metadata": {},
   "outputs": [],
   "source": []
  },
  {
   "cell_type": "markdown",
   "metadata": {},
   "source": [
    "---  \n",
    "---  \n",
    "# TEST"
   ]
  },
  {
   "cell_type": "code",
   "execution_count": 36,
   "metadata": {},
   "outputs": [
    {
     "name": "stdout",
     "output_type": "stream",
     "text": [
      "Nombre de documents: 46298\n",
      "Nombre de mots uniques avant filtrage: 24443\n"
     ]
    }
   ],
   "source": [
    "texts = data['Title'].tolist()\n",
    "print(f\"Nombre de documents: {len(texts)}\")\n",
    "print(f\"Nombre de mots uniques avant filtrage: {len(set([word for text in texts for word in text]))}\")"
   ]
  },
  {
   "cell_type": "code",
   "execution_count": 41,
   "metadata": {},
   "outputs": [
    {
     "name": "stdout",
     "output_type": "stream",
     "text": [
      "Nombre de mots uniques après filtrage: 3771\n"
     ]
    }
   ],
   "source": [
    "# Création du dictionnaire\n",
    "id2word = corpora.Dictionary(texts)\n",
    "id2word.filter_extremes(no_below=5)\n",
    "print(f\"Nombre de mots uniques après filtrage: {len(id2word)}\")\n",
    "\n",
    "# Création du corpus BOW et TF-IDF\n",
    "bow_corpus = [id2word.doc2bow(text) for text in texts]\n",
    "tfidf = TfidfModel(bow_corpus)\n",
    "tfidf_corpus = [tfidf[text] for text in bow_corpus]"
   ]
  },
  {
   "cell_type": "code",
   "execution_count": 42,
   "metadata": {},
   "outputs": [],
   "source": [
    "# Fonction pour calculer les valeurs de cohérence\n",
    "def compute_coherence_values(dictionary, corpus, texts, limit, start=2, step=3):\n",
    "    coherence_values = []\n",
    "    model_list = []\n",
    "    \n",
    "    for num_topics in range(start, limit, step):\n",
    "        model = LdaMulticore(corpus=corpus,\n",
    "                             id2word=dictionary,\n",
    "                             num_topics=num_topics, \n",
    "                             random_state=42,\n",
    "                             passes=10,\n",
    "                             workers=7)\n",
    "        model_list.append(model)\n",
    "        coherencemodel = CoherenceModel(model=model, texts=texts, dictionary=dictionary, coherence='c_v')\n",
    "        coherence_values.append(coherencemodel.get_coherence())\n",
    "\n",
    "    return model_list, coherence_values"
   ]
  },
  {
   "cell_type": "code",
   "execution_count": 43,
   "metadata": {},
   "outputs": [],
   "source": [
    "# Calcul des valeurs de cohérence\n",
    "model_list, coherence_values = compute_coherence_values(dictionary=id2word, corpus=tfidf_corpus, texts=texts, start=2, limit=51, step=1)"
   ]
  },
  {
   "cell_type": "code",
   "execution_count": 45,
   "metadata": {},
   "outputs": [
    {
     "data": {
      "image/png": "[encoded data removed]",
      "text/plain": [
       "<Figure size 640x480 with 1 Axes>"
      ]
     },
     "metadata": {},
     "output_type": "display_data"
    },
    {
     "name": "stdout",
     "output_type": "stream",
     "text": [
      "Num Topics = 2  has Coherence Value of 0.3142\n",
      "Num Topics = 3  has Coherence Value of 0.3232\n",
      "Num Topics = 4  has Coherence Value of 0.3344\n",
      "Num Topics = 5  has Coherence Value of 0.3231\n",
      "Num Topics = 6  has Coherence Value of 0.3786\n",
      "Num Topics = 7  has Coherence Value of 0.384\n",
      "Num Topics = 8  has Coherence Value of 0.3604\n",
      "Num Topics = 9  has Coherence Value of 0.3481\n",
      "Num Topics = 10  has Coherence Value of 0.3329\n",
      "Num Topics = 11  has Coherence Value of 0.3384\n",
      "Num Topics = 12  has Coherence Value of 0.3182\n",
      "Num Topics = 13  has Coherence Value of 0.3657\n",
      "Num Topics = 14  has Coherence Value of 0.3395\n",
      "Num Topics = 15  has Coherence Value of 0.3687\n",
      "Num Topics = 16  has Coherence Value of 0.3597\n",
      "Num Topics = 17  has Coherence Value of 0.3933\n",
      "Num Topics = 18  has Coherence Value of 0.3773\n",
      "Num Topics = 19  has Coherence Value of 0.3866\n",
      "Num Topics = 20  has Coherence Value of 0.4175\n",
      "Num Topics = 21  has Coherence Value of 0.3821\n",
      "Num Topics = 22  has Coherence Value of 0.4234\n",
      "Num Topics = 23  has Coherence Value of 0.4475\n",
      "Num Topics = 24  has Coherence Value of 0.427\n",
      "Num Topics = 25  has Coherence Value of 0.4186\n",
      "Num Topics = 26  has Coherence Value of 0.4426\n",
      "Num Topics = 27  has Coherence Value of 0.4502\n",
      "Num Topics = 28  has Coherence Value of 0.4564\n",
      "Num Topics = 29  has Coherence Value of 0.475\n",
      "Num Topics = 30  has Coherence Value of 0.4623\n",
      "Num Topics = 31  has Coherence Value of 0.4574\n",
      "Num Topics = 32  has Coherence Value of 0.4824\n",
      "Num Topics = 33  has Coherence Value of 0.4691\n",
      "Num Topics = 34  has Coherence Value of 0.4954\n",
      "Num Topics = 35  has Coherence Value of 0.4988\n",
      "Num Topics = 36  has Coherence Value of 0.5045\n",
      "Num Topics = 37  has Coherence Value of 0.5021\n",
      "Num Topics = 38  has Coherence Value of 0.5081\n",
      "Num Topics = 39  has Coherence Value of 0.5198\n",
      "Num Topics = 40  has Coherence Value of 0.5052\n",
      "Num Topics = 41  has Coherence Value of 0.5061\n",
      "Num Topics = 42  has Coherence Value of 0.5305\n",
      "Num Topics = 43  has Coherence Value of 0.515\n",
      "Num Topics = 44  has Coherence Value of 0.5087\n",
      "Num Topics = 45  has Coherence Value of 0.5099\n",
      "Num Topics = 46  has Coherence Value of 0.4985\n",
      "Num Topics = 47  has Coherence Value of 0.5067\n",
      "Num Topics = 48  has Coherence Value of 0.4955\n",
      "Num Topics = 49  has Coherence Value of 0.4755\n",
      "Num Topics = 50  has Coherence Value of 0.4497\n"
     ]
    }
   ],
   "source": [
    "# Affichage des résultats\n",
    "limit=51; start=2; step=1;\n",
    "x = range(start, limit, step)\n",
    "plt.plot(x, coherence_values)\n",
    "plt.xlabel(\"Num Topics\")\n",
    "plt.ylabel(\"Coherence score\")\n",
    "plt.legend((\"coherence_values\"), loc='best')\n",
    "plt.show()\n",
    "\n",
    "for m, cv in zip(x, coherence_values):\n",
    "    print(\"Num Topics =\", m, \" has Coherence Value of\", round(cv, 4))"
   ]
  }
 ],
 "metadata": {
  "kernelspec": {
   "display_name": "hugface",
   "language": "python",
   "name": "python3"
  },
  "language_info": {
   "codemirror_mode": {
    "name": "ipython",
    "version": 3
   },
   "file_extension": ".py",
   "mimetype": "text/x-python",
   "name": "python",
   "nbconvert_exporter": "python",
   "pygments_lexer": "ipython3",
   "version": "3.11.5"
  }
 },
 "nbformat": 4,
 "nbformat_minor": 2
}
