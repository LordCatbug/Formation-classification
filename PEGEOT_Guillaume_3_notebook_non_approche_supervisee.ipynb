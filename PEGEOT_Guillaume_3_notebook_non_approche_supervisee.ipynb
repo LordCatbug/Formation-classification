{
 "cells": [
  {
   "cell_type": "code",
   "execution_count": 1,
   "metadata": {},
   "outputs": [
    {
     "name": "stderr",
     "output_type": "stream",
     "text": [
      "e:\\Users\\Beast-Of-War\\miniconda3\\envs\\hugface\\Lib\\site-packages\\tqdm\\auto.py:21: TqdmWarning: IProgress not found. Please update jupyter and ipywidgets. See https://ipywidgets.readthedocs.io/en/stable/user_install.html\n",
      "  from .autonotebook import tqdm as notebook_tqdm\n"
     ]
    },
    {
     "name": "stdout",
     "output_type": "stream",
     "text": [
      "WARNING:tensorflow:From e:\\Users\\Beast-Of-War\\miniconda3\\envs\\hugface\\Lib\\site-packages\\tf_keras\\src\\losses.py:2976: The name tf.losses.sparse_softmax_cross_entropy is deprecated. Please use tf.compat.v1.losses.sparse_softmax_cross_entropy instead.\n",
      "\n"
     ]
    },
    {
     "name": "stderr",
     "output_type": "stream",
     "text": [
      "e:\\Users\\Beast-Of-War\\miniconda3\\envs\\hugface\\Lib\\site-packages\\paramiko\\transport.py:219: CryptographyDeprecationWarning: Blowfish has been deprecated\n",
      "  \"class\": algorithms.Blowfish,\n"
     ]
    }
   ],
   "source": [
    "import pandas as pd\n",
    "from sklearn.preprocessing import LabelEncoder\n",
    "from sklearn.model_selection import train_test_split\n",
    "from sklearn.naive_bayes import MultinomialNB\n",
    "from sklearn.metrics import accuracy_score, classification_report\n",
    "import numpy as np\n",
    "import matplotlib.pyplot as plt\n",
    "from sklearn.preprocessing import MultiLabelBinarizer\n",
    "from transformers import TFBertForSequenceClassification\n",
    "import tensorflow as tf\n",
    "\n",
    "import gensim\n",
    "from gensim.models import Word2Vec\n",
    "import gensim.corpora as corpora\n",
    "from gensim.models import TfidfModel, CoherenceModel, LdaMulticore\n",
    "from gensim import models\n",
    "from gensim.utils import simple_preprocess\n",
    "import logging\n",
    "logging.basicConfig(format='%(asctime)s : %(levelname)s : %(message)s', level=logging.ERROR)\n",
    "import warnings\n",
    "warnings.filterwarnings(\"ignore\",category=DeprecationWarning)"
   ]
  },
  {
   "cell_type": "code",
   "execution_count": 2,
   "metadata": {},
   "outputs": [],
   "source": [
    "data = pd.read_csv(\"data_bag.csv\")\n",
    "\n",
    "import ast\n",
    "\n",
    "def convert_tags(tag_str):\n",
    "    \"\"\"\n",
    "    Convertit une chaîne de caractères représentant une liste de tags en une liste de tags.\n",
    "\n",
    "    Args:\n",
    "        tag_str (str): Chaîne de caractères représentant une liste de tags.\n",
    "\n",
    "    Returns:\n",
    "        list: Liste des tags.\n",
    "    \"\"\"\n",
    "    tags_list = ast.literal_eval(tag_str)\n",
    "    return tags_list\n",
    "\n",
    "data['Tags'] = data['Tags'].apply(convert_tags)\n",
    "\n",
    "# Compter les occurrences de chaque tag\n",
    "tag_counts = {}\n",
    "for row in data['Tags']:\n",
    "    for tag in row:\n",
    "        if tag in tag_counts:\n",
    "            tag_counts[tag] += 1\n",
    "        else:\n",
    "            tag_counts[tag] = 1\n",
    "\n",
    "# Convertir en DataFrame pour faciliter le tri\n",
    "tag_counts_df = pd.DataFrame(list(tag_counts.items()), columns=['tag', 'count'])\n",
    "# Appliquer la fonction de conversion à chaque élément de la colonne 'Tags'\n",
    "data['Title'] = data['Title'].str.split(\" \")\n",
    "data = data.drop('Id', axis=1)"
   ]
  },
  {
   "cell_type": "code",
   "execution_count": 3,
   "metadata": {},
   "outputs": [
    {
     "name": "stdout",
     "output_type": "stream",
     "text": [
      "Les 100 tags les plus fréquents : ['python', 'javascript', 'java', 'reactjs', 'android', 'c++', 'node.js', 'r', 'c#', 'flutter', 'html', 'typescript', 'pandas', 'ios', 'docker', 'python-3.x', 'swift', 'css', 'spring-boot', 'kotlin', 'dataframe', 'amazon-web-services', 'php', 'react-native', 'dart', 'firebase', 'vue.js', 'arrays', 'django', 'angular', 'spring', 'c', 'next.js', 'azure', 'git', 'numpy', 'json', 'tensorflow', 'kubernetes', 'linux', 'swiftui', 'macos', 'github', 'windows', 'asp.net-core', 'algorithm', 'postgresql', 'sql', 'visual-studio-code', 'android-studio', 'laravel', 'xcode', 'apache-spark', 'npm', 'android-jetpack-compose', 'jquery', 'performance', 'mongodb', 'webpack', 'multithreading', 'pyspark', 'express', 'keras', 'machine-learning', 'docker-compose', 'list', 'gradle', 'google-cloud-platform', 'excel', 'pytorch', 'selenium', 'c++20', 'react-hooks', 'mysql', 'dplyr', 'wordpress', 'unit-testing', 'go', 'api', 'jestjs', 'powershell', 'string', 'deep-learning', 'opencv', 'matplotlib', 'maven', 'language-lawyer', 'ssh', 'gitlab', 'function', 'database', 'google-chrome', 'vuejs3', 'authentication', 'google-cloud-firestore', 'aws-lambda', 'bash', 'scala', 'apple-m1', 'templates']\n"
     ]
    }
   ],
   "source": [
    "top_number = 100\n",
    "# Trier par ordre décroissant de fréquence\n",
    "tag_counts_df = tag_counts_df.sort_values(by='count', ascending=False)\n",
    "\n",
    "# Sélectionner les 100 tags les plus fréquents\n",
    "top_tags = tag_counts_df.head(top_number)['tag'].tolist()\n",
    "\n",
    "# Filtrer les tags dans votre DataFrame d'origine pour ne garder que les 100 tags les plus fréquents\n",
    "data['Tags'] = data['Tags'].apply(lambda x: [tag for tag in x if tag in top_tags])\n",
    "\n",
    "# Afficher les 100 tags les plus fréquents\n",
    "print(\"Les\",top_number,\"tags les plus fréquents :\", top_tags)\n",
    "\n",
    "# des tags se retouvent vide => on retire les individus\n",
    "data = data[data['Tags'].apply(len) > 0]"
   ]
  },
  {
   "cell_type": "code",
   "execution_count": 4,
   "metadata": {},
   "outputs": [
    {
     "data": {
      "text/html": [
       "<div>\n",
       "<style scoped>\n",
       "    .dataframe tbody tr th:only-of-type {\n",
       "        vertical-align: middle;\n",
       "    }\n",
       "\n",
       "    .dataframe tbody tr th {\n",
       "        vertical-align: top;\n",
       "    }\n",
       "\n",
       "    .dataframe thead th {\n",
       "        text-align: right;\n",
       "    }\n",
       "</style>\n",
       "<table border=\"1\" class=\"dataframe\">\n",
       "  <thead>\n",
       "    <tr style=\"text-align: right;\">\n",
       "      <th></th>\n",
       "      <th>Title</th>\n",
       "      <th>Tags</th>\n",
       "    </tr>\n",
       "  </thead>\n",
       "  <tbody>\n",
       "    <tr>\n",
       "      <th>0</th>\n",
       "      <td>[construct, object, alloc, stdallocatoralloc]</td>\n",
       "      <td>[c++, c++20]</td>\n",
       "    </tr>\n",
       "    <tr>\n",
       "      <th>1</th>\n",
       "      <td>[react, router, block, rout, chang, createbrow...</td>\n",
       "      <td>[javascript, reactjs]</td>\n",
       "    </tr>\n",
       "    <tr>\n",
       "      <th>3</th>\n",
       "      <td>[flutter, firebas, control, notif, show, app, ...</td>\n",
       "      <td>[ios, flutter]</td>\n",
       "    </tr>\n",
       "    <tr>\n",
       "      <th>4</th>\n",
       "      <td>[roll, idxminmax, panda, datafram]</td>\n",
       "      <td>[python, pandas, dataframe]</td>\n",
       "    </tr>\n",
       "    <tr>\n",
       "      <th>5</th>\n",
       "      <td>[process, finish, exit, code, interrupt, signa...</td>\n",
       "      <td>[python, pandas, numpy]</td>\n",
       "    </tr>\n",
       "    <tr>\n",
       "      <th>6</th>\n",
       "      <td>[tri, read, regist, valu, process, task_struct]</td>\n",
       "      <td>[c]</td>\n",
       "    </tr>\n",
       "    <tr>\n",
       "      <th>7</th>\n",
       "      <td>[anchor, link, work, properli, desktop, work, ...</td>\n",
       "      <td>[javascript, html, css]</td>\n",
       "    </tr>\n",
       "    <tr>\n",
       "      <th>8</th>\n",
       "      <td>[uwsgi, error, pcre, ubuntu, 2004, error, load...</td>\n",
       "      <td>[python-3.x]</td>\n",
       "    </tr>\n",
       "    <tr>\n",
       "      <th>9</th>\n",
       "      <td>[error, could, deseri, data, use, algorithm, d...</td>\n",
       "      <td>[django]</td>\n",
       "    </tr>\n",
       "    <tr>\n",
       "      <th>10</th>\n",
       "      <td>[cant, scrape, compani, name, webpag]</td>\n",
       "      <td>[python, python-3.x]</td>\n",
       "    </tr>\n",
       "  </tbody>\n",
       "</table>\n",
       "</div>"
      ],
      "text/plain": [
       "                                                Title  \\\n",
       "0       [construct, object, alloc, stdallocatoralloc]   \n",
       "1   [react, router, block, rout, chang, createbrow...   \n",
       "3   [flutter, firebas, control, notif, show, app, ...   \n",
       "4                  [roll, idxminmax, panda, datafram]   \n",
       "5   [process, finish, exit, code, interrupt, signa...   \n",
       "6     [tri, read, regist, valu, process, task_struct]   \n",
       "7   [anchor, link, work, properli, desktop, work, ...   \n",
       "8   [uwsgi, error, pcre, ubuntu, 2004, error, load...   \n",
       "9   [error, could, deseri, data, use, algorithm, d...   \n",
       "10              [cant, scrape, compani, name, webpag]   \n",
       "\n",
       "                           Tags  \n",
       "0                  [c++, c++20]  \n",
       "1         [javascript, reactjs]  \n",
       "3                [ios, flutter]  \n",
       "4   [python, pandas, dataframe]  \n",
       "5       [python, pandas, numpy]  \n",
       "6                           [c]  \n",
       "7       [javascript, html, css]  \n",
       "8                  [python-3.x]  \n",
       "9                      [django]  \n",
       "10         [python, python-3.x]  "
      ]
     },
     "execution_count": 4,
     "metadata": {},
     "output_type": "execute_result"
    }
   ],
   "source": [
    "data.head(10)"
   ]
  },
  {
   "cell_type": "code",
   "execution_count": 5,
   "metadata": {},
   "outputs": [
    {
     "name": "stdout",
     "output_type": "stream",
     "text": [
      "Nombre de documents: 46298\n",
      "Nombre de mots uniques avant filtrage: 24443\n"
     ]
    }
   ],
   "source": [
    "texts = data['Title'].tolist()\n",
    "print(f\"Nombre de documents: {len(texts)}\")\n",
    "print(f\"Nombre de mots uniques avant filtrage: {len(set([word for text in texts for word in text]))}\")"
   ]
  },
  {
   "cell_type": "code",
   "execution_count": 6,
   "metadata": {},
   "outputs": [
    {
     "name": "stdout",
     "output_type": "stream",
     "text": [
      "Nombre de mots uniques après filtrage: 3771\n"
     ]
    }
   ],
   "source": [
    "# Création du dictionnaire\n",
    "id2word = corpora.Dictionary(texts)\n",
    "id2word.filter_extremes(no_below=5)\n",
    "print(f\"Nombre de mots uniques après filtrage: {len(id2word)}\")\n",
    "\n",
    "# Création du corpus BOW et TF-IDF\n",
    "bow_corpus = [id2word.doc2bow(text) for text in texts]\n",
    "tfidf = TfidfModel(bow_corpus)\n",
    "tfidf_corpus = [tfidf[text] for text in bow_corpus]"
   ]
  },
  {
   "cell_type": "code",
   "execution_count": 7,
   "metadata": {},
   "outputs": [],
   "source": [
    "# Fonction pour calculer les valeurs de cohérence\n",
    "def compute_coherence_values(dictionary, corpus, texts, limit, start=2, step=3):\n",
    "    coherence_values = []\n",
    "    model_list = []\n",
    "    \n",
    "    for num_topics in range(start, limit, step):\n",
    "        model = LdaMulticore(corpus=corpus,\n",
    "                             id2word=dictionary,\n",
    "                             num_topics=num_topics, \n",
    "                             random_state=42,\n",
    "                             passes=10,\n",
    "                             workers=7)\n",
    "        model_list.append(model)\n",
    "        coherencemodel = CoherenceModel(model=model, texts=texts, dictionary=dictionary, coherence='c_v')\n",
    "        coherence_values.append(coherencemodel.get_coherence())\n",
    "\n",
    "    return model_list, coherence_values"
   ]
  },
  {
   "cell_type": "code",
   "execution_count": 8,
   "metadata": {},
   "outputs": [],
   "source": [
    "# Calcul des valeurs de cohérence\n",
    "model_list, coherence_values = compute_coherence_values(dictionary=id2word, corpus=tfidf_corpus, texts=texts, start=2, limit=51, step=1)"
   ]
  },
  {
   "cell_type": "code",
   "execution_count": 9,
   "metadata": {},
   "outputs": [
    {
     "data": {
      "image/png": "[encoded data removed]",
      "text/plain": [
       "<Figure size 640x480 with 1 Axes>"
      ]
     },
     "metadata": {},
     "output_type": "display_data"
    },
    {
     "name": "stdout",
     "output_type": "stream",
     "text": [
      "Num Topics = 2  has Coherence Value of 0.2985\n",
      "Num Topics = 3  has Coherence Value of 0.3232\n",
      "Num Topics = 4  has Coherence Value of 0.3405\n",
      "Num Topics = 5  has Coherence Value of 0.3107\n",
      "Num Topics = 6  has Coherence Value of 0.3749\n",
      "Num Topics = 7  has Coherence Value of 0.3807\n",
      "Num Topics = 8  has Coherence Value of 0.3543\n",
      "Num Topics = 9  has Coherence Value of 0.3549\n",
      "Num Topics = 10  has Coherence Value of 0.337\n",
      "Num Topics = 11  has Coherence Value of 0.3329\n",
      "Num Topics = 12  has Coherence Value of 0.3275\n",
      "Num Topics = 13  has Coherence Value of 0.3434\n",
      "Num Topics = 14  has Coherence Value of 0.3451\n",
      "Num Topics = 15  has Coherence Value of 0.3693\n",
      "Num Topics = 16  has Coherence Value of 0.374\n",
      "Num Topics = 17  has Coherence Value of 0.3751\n",
      "Num Topics = 18  has Coherence Value of 0.3677\n",
      "Num Topics = 19  has Coherence Value of 0.3938\n",
      "Num Topics = 20  has Coherence Value of 0.4188\n",
      "Num Topics = 21  has Coherence Value of 0.3818\n",
      "Num Topics = 22  has Coherence Value of 0.416\n",
      "Num Topics = 23  has Coherence Value of 0.4402\n",
      "Num Topics = 24  has Coherence Value of 0.4286\n",
      "Num Topics = 25  has Coherence Value of 0.4283\n",
      "Num Topics = 26  has Coherence Value of 0.4409\n",
      "Num Topics = 27  has Coherence Value of 0.4556\n",
      "Num Topics = 28  has Coherence Value of 0.4449\n",
      "Num Topics = 29  has Coherence Value of 0.4656\n",
      "Num Topics = 30  has Coherence Value of 0.4529\n",
      "Num Topics = 31  has Coherence Value of 0.4627\n",
      "Num Topics = 32  has Coherence Value of 0.4828\n",
      "Num Topics = 33  has Coherence Value of 0.4968\n",
      "Num Topics = 34  has Coherence Value of 0.5073\n",
      "Num Topics = 35  has Coherence Value of 0.4856\n",
      "Num Topics = 36  has Coherence Value of 0.4907\n",
      "Num Topics = 37  has Coherence Value of 0.4945\n",
      "Num Topics = 38  has Coherence Value of 0.5065\n",
      "Num Topics = 39  has Coherence Value of 0.5179\n",
      "Num Topics = 40  has Coherence Value of 0.5054\n",
      "Num Topics = 41  has Coherence Value of 0.5058\n",
      "Num Topics = 42  has Coherence Value of 0.5381\n",
      "Num Topics = 43  has Coherence Value of 0.5097\n",
      "Num Topics = 44  has Coherence Value of 0.5199\n",
      "Num Topics = 45  has Coherence Value of 0.5043\n",
      "Num Topics = 46  has Coherence Value of 0.4938\n",
      "Num Topics = 47  has Coherence Value of 0.5084\n",
      "Num Topics = 48  has Coherence Value of 0.4971\n",
      "Num Topics = 49  has Coherence Value of 0.47\n",
      "Num Topics = 50  has Coherence Value of 0.4393\n"
     ]
    }
   ],
   "source": [
    "# Affichage des résultats\n",
    "limit=51; start=2; step=1;\n",
    "x = range(start, limit, step)\n",
    "plt.plot(x, coherence_values)\n",
    "plt.xlabel(\"Num Topics\")\n",
    "plt.ylabel(\"Coherence score\")\n",
    "plt.legend((\"coherence_values\"), loc='best')\n",
    "plt.show()\n",
    "\n",
    "for m, cv in zip(x, coherence_values):\n",
    "    print(\"Num Topics =\", m, \" has Coherence Value of\", round(cv, 4))"
   ]
  },
  {
   "cell_type": "code",
   "execution_count": 18,
   "metadata": {},
   "outputs": [
    {
     "name": "stdout",
     "output_type": "stream",
     "text": [
      "la cohérence est maximale à 0.538087530346396 avec 42 topics\n"
     ]
    }
   ],
   "source": [
    "print(\"la cohérence est maximale à\",max(coherence_values),\"avec\",2+coherence_values.index(max(coherence_values)),\"topics\")"
   ]
  },
  {
   "cell_type": "code",
   "execution_count": 21,
   "metadata": {},
   "outputs": [
    {
     "name": "stdout",
     "output_type": "stream",
     "text": [
      "Topic 0:\n",
      "0.038*\"null\" + 0.036*\"rang\" + 0.030*\"permiss\" + 0.029*\"disabl\" + 0.027*\"pytorch\" + 0.025*\"equival\" + 0.023*\"system\" + 0.021*\"repeat\" + 0.020*\"socket\" + 0.019*\"deni\" + 0.018*\"train\" + 0.017*\"safari\" + 0.017*\"volum\" + 0.016*\"nuxt\" + 0.015*\"multi\"\n",
      "\n",
      "Topic 1:\n",
      "0.043*\"loop\" + 0.032*\"merg\" + 0.025*\"plotli\" + 0.024*\"event\" + 0.023*\"combin\" + 0.022*\"automat\" + 0.020*\"case\" + 0.019*\"listen\" + 0.019*\"postgresql\" + 0.019*\"hook\" + 0.019*\"rule\" + 0.016*\"seri\" + 0.015*\"continu\" + 0.015*\"devic\" + 0.013*\"expand\"\n",
      "\n",
      "Topic 2:\n",
      "0.057*\"import\" + 0.048*\"studio\" + 0.031*\"visual\" + 0.025*\"android\" + 0.024*\"modul\" + 0.024*\"found\" + 0.020*\"load\" + 0.019*\"wrong\" + 0.016*\"cannot\" + 0.016*\"runtim\" + 0.016*\"error\" + 0.014*\"worker\" + 0.014*\"intern\" + 0.012*\"configur\" + 0.012*\"airflow\"\n",
      "\n",
      "Topic 3:\n",
      "0.040*\"handl\" + 0.039*\"block\" + 0.037*\"except\" + 0.035*\"larg\" + 0.035*\"posit\" + 0.028*\"expect\" + 0.028*\"messag\" + 0.023*\"callback\" + 0.018*\"mongoos\" + 0.018*\"subscript\" + 0.015*\"twice\" + 0.015*\"entri\" + 0.014*\"registri\" + 0.014*\"param\" + 0.014*\"persist\"\n",
      "\n",
      "Topic 4:\n",
      "0.038*\"collect\" + 0.037*\"annot\" + 0.026*\"transform\" + 0.025*\"redux\" + 0.025*\"optim\" + 0.022*\"byte\" + 0.020*\"email\" + 0.019*\"simul\" + 0.018*\"express\" + 0.017*\"microsoft\" + 0.016*\"titl\" + 0.016*\"scope\" + 0.014*\"send\" + 0.014*\"layout\" + 0.014*\"skip\"\n",
      "\n",
      "Topic 5:\n",
      "0.034*\"mani\" + 0.033*\"log\" + 0.032*\"modifi\" + 0.026*\"consol\" + 0.024*\"publish\" + 0.024*\"distribut\" + 0.024*\"transact\" + 0.023*\"proper\" + 0.022*\"improv\" + 0.021*\"across\" + 0.020*\"datat\" + 0.019*\"observ\" + 0.017*\"directli\" + 0.016*\"secret\" + 0.015*\"queue\"\n",
      "\n",
      "Topic 6:\n",
      "0.034*\"login\" + 0.028*\"fetch\" + 0.025*\"unknown\" + 0.023*\"unexpect\" + 0.023*\"redirect\" + 0.021*\"programmat\" + 0.020*\"token\" + 0.020*\"parallel\" + 0.020*\"textfield\" + 0.019*\"behavior\" + 0.017*\"rail\" + 0.017*\"cast\" + 0.016*\"promis\" + 0.015*\"blazor\" + 0.014*\"strang\"\n",
      "\n",
      "Topic 7:\n",
      "0.038*\"xcode\" + 0.034*\"sort\" + 0.027*\"limit\" + 0.024*\"ubuntu\" + 0.021*\"even\" + 0.021*\"integ\" + 0.020*\"grid\" + 0.020*\"path\" + 0.019*\"side\" + 0.019*\"notebook\" + 0.018*\"activ\" + 0.018*\"binari\" + 0.018*\"transit\" + 0.018*\"tree\" + 0.018*\"jupyt\"\n",
      "\n",
      "Topic 8:\n",
      "0.042*\"delet\" + 0.033*\"search\" + 0.027*\"expo\" + 0.025*\"last\" + 0.022*\"keep\" + 0.020*\"item\" + 0.019*\"overrid\" + 0.017*\"encrypt\" + 0.017*\"fragment\" + 0.017*\"determin\" + 0.012*\"pleas\" + 0.012*\"lookup\" + 0.012*\"usest\" + 0.012*\"hint\" + 0.011*\"transfer\"\n",
      "\n",
      "Topic 9:\n",
      "0.033*\"parent\" + 0.032*\"render\" + 0.032*\"video\" + 0.030*\"calcul\" + 0.027*\"mean\" + 0.027*\"child\" + 0.024*\"everi\" + 0.024*\"compar\" + 0.019*\"ignor\" + 0.018*\"class\" + 0.018*\"aggreg\" + 0.017*\"certif\" + 0.017*\"isnt\" + 0.017*\"viewmodel\" + 0.014*\"clang\"\n",
      "\n",
      "Topic 10:\n",
      "0.035*\"action\" + 0.028*\"secur\" + 0.028*\"post\" + 0.027*\"miss\" + 0.024*\"endpoint\" + 0.023*\"start\" + 0.022*\"springboot\" + 0.020*\"api\" + 0.019*\"follow\" + 0.018*\"gateway\" + 0.016*\"spring\" + 0.014*\"github\" + 0.014*\"request\" + 0.013*\"rest\" + 0.012*\"true\"\n",
      "\n",
      "Topic 11:\n",
      "0.033*\"best\" + 0.030*\"thread\" + 0.025*\"resourc\" + 0.025*\"privat\" + 0.024*\"sign\" + 0.023*\"join\" + 0.022*\"inject\" + 0.021*\"altern\" + 0.019*\"memori\" + 0.019*\"encod\" + 0.018*\"dockercompos\" + 0.018*\"identifi\" + 0.018*\"what\" + 0.016*\"tensor\" + 0.016*\"rotat\"\n",
      "\n",
      "Topic 12:\n",
      "0.035*\"order\" + 0.033*\"product\" + 0.031*\"count\" + 0.031*\"record\" + 0.029*\"filter\" + 0.024*\"differ\" + 0.021*\"django\" + 0.021*\"woocommerc\" + 0.017*\"random\" + 0.017*\"custom\" + 0.016*\"width\" + 0.015*\"interact\" + 0.015*\"auth\" + 0.014*\"heroku\" + 0.013*\"number\"\n",
      "\n",
      "Topic 13:\n",
      "0.033*\"pyspark\" + 0.032*\"instanc\" + 0.031*\"extens\" + 0.031*\"includ\" + 0.027*\"throw\" + 0.026*\"provid\" + 0.024*\"group\" + 0.020*\"chrome\" + 0.020*\"close\" + 0.020*\"struct\" + 0.017*\"bucket\" + 0.017*\"must\" + 0.016*\"avail\" + 0.015*\"namespac\" + 0.015*\"dont\"\n",
      "\n",
      "Topic 14:\n",
      "0.037*\"swiftui\" + 0.034*\"read\" + 0.029*\"properti\" + 0.028*\"typeerror\" + 0.028*\"form\" + 0.027*\"undefin\" + 0.026*\"header\" + 0.026*\"async\" + 0.020*\"label\" + 0.017*\"author\" + 0.016*\"cooki\" + 0.015*\"axio\" + 0.015*\"cannot\" + 0.015*\"view\" + 0.014*\"signatur\"\n",
      "\n",
      "Topic 15:\n",
      "0.039*\"defin\" + 0.034*\"upgrad\" + 0.029*\"websocket\" + 0.028*\"graph\" + 0.026*\"solv\" + 0.025*\"error\" + 0.023*\"nginx\" + 0.022*\"control\" + 0.021*\"switch\" + 0.020*\"layer\" + 0.019*\"proxi\" + 0.018*\"eslint\" + 0.017*\"virtual\" + 0.016*\"given\" + 0.016*\"revers\"\n",
      "\n",
      "Topic 16:\n",
      "0.038*\"name\" + 0.036*\"gradl\" + 0.033*\"constructor\" + 0.024*\"move\" + 0.024*\"databrick\" + 0.019*\"dart\" + 0.019*\"perform\" + 0.018*\"channel\" + 0.017*\"averag\" + 0.016*\"length\" + 0.015*\"happen\" + 0.015*\"modul\" + 0.014*\"modulenotfounderror\" + 0.014*\"oauth2\" + 0.013*\"mask\"\n",
      "\n",
      "Topic 17:\n",
      "0.038*\"sql\" + 0.036*\"queri\" + 0.030*\"replac\" + 0.029*\"document\" + 0.029*\"row\" + 0.026*\"nodej\" + 0.026*\"mongodb\" + 0.024*\"correctli\" + 0.023*\"point\" + 0.015*\"tabl\" + 0.015*\"spark\" + 0.014*\"standard\" + 0.014*\"keyboard\" + 0.014*\"inherit\" + 0.013*\"sequenc\"\n",
      "\n",
      "Topic 18:\n",
      "0.041*\"mock\" + 0.028*\"emul\" + 0.027*\"algorithm\" + 0.026*\"ad\" + 0.025*\"alway\" + 0.024*\"firestor\" + 0.023*\"flask\" + 0.021*\"shape\" + 0.019*\"check\" + 0.018*\"allow\" + 0.016*\"site\" + 0.016*\"failur\" + 0.015*\"middlewar\" + 0.014*\"fix\" + 0.014*\"normal\"\n",
      "\n",
      "Topic 19:\n",
      "0.046*\"lambda\" + 0.045*\"anim\" + 0.040*\"vscode\" + 0.032*\"http\" + 0.028*\"copi\" + 0.026*\"plugin\" + 0.023*\"level\" + 0.019*\"understand\" + 0.019*\"full\" + 0.018*\"height\" + 0.017*\"global\" + 0.014*\"driver\" + 0.013*\"instanti\" + 0.012*\"pool\" + 0.011*\"symfoni\"\n",
      "\n",
      "Topic 20:\n",
      "0.037*\"charact\" + 0.035*\"debug\" + 0.034*\"maven\" + 0.033*\"slow\" + 0.031*\"folder\" + 0.027*\"linux\" + 0.025*\"abl\" + 0.023*\"relat\" + 0.023*\"respons\" + 0.021*\"serial\" + 0.021*\"appear\" + 0.020*\"second\" + 0.019*\"releas\" + 0.014*\"shell\" + 0.014*\"latest\"\n",
      "\n",
      "Topic 21:\n",
      "0.044*\"numpi\" + 0.033*\"excel\" + 0.030*\"interfac\" + 0.030*\"gener\" + 0.027*\"schema\" + 0.026*\"enum\" + 0.026*\"vite\" + 0.025*\"array\" + 0.022*\"part\" + 0.018*\"reset\" + 0.018*\"total\" + 0.018*\"usag\" + 0.017*\"sqlalchemi\" + 0.016*\"environ\" + 0.016*\"embed\"\n",
      "\n",
      "Topic 22:\n",
      "0.097*\"compos\" + 0.065*\"jetpack\" + 0.046*\"color\" + 0.036*\"initi\" + 0.034*\"effici\" + 0.021*\"navig\" + 0.018*\"chang\" + 0.016*\"default\" + 0.016*\"commun\" + 0.015*\"regex\" + 0.013*\"text\" + 0.013*\"evalu\" + 0.013*\"verifi\" + 0.012*\"handler\" + 0.012*\"match\"\n",
      "\n",
      "Topic 23:\n",
      "0.038*\"support\" + 0.036*\"webpack\" + 0.031*\"appli\" + 0.027*\"nestj\" + 0.024*\"retriev\" + 0.023*\"featur\" + 0.022*\"sheet\" + 0.022*\"split\" + 0.021*\"ident\" + 0.019*\"exampl\" + 0.017*\"sever\" + 0.017*\"pagin\" + 0.016*\"coordin\" + 0.015*\"recogn\" + 0.014*\"constant\"\n",
      "\n",
      "Topic 24:\n",
      "0.030*\"type\" + 0.029*\"argument\" + 0.025*\"convert\" + 0.025*\"mysql\" + 0.024*\"function\" + 0.023*\"oper\" + 0.023*\"c\" + 0.022*\"crash\" + 0.018*\"recurs\" + 0.017*\"opencv\" + 0.017*\"python\" + 0.017*\"faster\" + 0.017*\"assign\" + 0.016*\"map\" + 0.016*\"paramet\"\n",
      "\n",
      "Topic 25:\n",
      "0.034*\"docker\" + 0.031*\"github\" + 0.028*\"git\" + 0.027*\"repositori\" + 0.022*\"properli\" + 0.021*\"contain\" + 0.021*\"remot\" + 0.019*\"gitlab\" + 0.019*\"appl\" + 0.018*\"statu\" + 0.016*\"host\" + 0.016*\"pointer\" + 0.016*\"pull\" + 0.015*\"jenkin\" + 0.015*\"fail\"\n",
      "\n",
      "Topic 26:\n",
      "0.034*\"task\" + 0.026*\"pars\" + 0.026*\"fastapi\" + 0.026*\"avoid\" + 0.025*\"insert\" + 0.023*\"postgr\" + 0.023*\"json\" + 0.021*\"websit\" + 0.021*\"program\" + 0.019*\"nest\" + 0.016*\"batch\" + 0.016*\"statement\" + 0.015*\"kotlin\" + 0.014*\"golang\" + 0.013*\"children\"\n",
      "\n",
      "Topic 27:\n",
      "0.043*\"attribut\" + 0.038*\"plot\" + 0.037*\"scroll\" + 0.035*\"widget\" + 0.025*\"stack\" + 0.025*\"draw\" + 0.021*\"matplotlib\" + 0.020*\"packag\" + 0.020*\"canva\" + 0.018*\"clone\" + 0.017*\"step\" + 0.016*\"convers\" + 0.016*\"slower\" + 0.015*\"fast\" + 0.015*\"flutter\"\n",
      "\n",
      "Topic 28:\n",
      "0.035*\"deprec\" + 0.028*\"enabl\" + 0.027*\"wait\" + 0.027*\"effect\" + 0.026*\"right\" + 0.026*\"graphql\" + 0.023*\"desktop\" + 0.022*\"align\" + 0.020*\"launch\" + 0.017*\"still\" + 0.015*\"measur\" + 0.014*\"left\" + 0.013*\"white\" + 0.012*\"onclick\" + 0.012*\"finish\"\n",
      "\n",
      "Topic 29:\n",
      "0.040*\"powershel\" + 0.034*\"duplic\" + 0.030*\"session\" + 0.028*\"break\" + 0.027*\"laravel\" + 0.026*\"scala\" + 0.022*\"long\" + 0.019*\"option\" + 0.018*\"lock\" + 0.018*\"remov\" + 0.017*\"electron\" + 0.016*\"ifram\" + 0.016*\"script\" + 0.014*\"grpc\" + 0.013*\"pipe\"\n",
      "\n",
      "Topic 30:\n",
      "0.042*\"test\" + 0.029*\"pipelin\" + 0.025*\"termin\" + 0.024*\"unit\" + 0.021*\"jest\" + 0.020*\"command\" + 0.018*\"click\" + 0.017*\"cor\" + 0.017*\"azur\" + 0.017*\"run\" + 0.015*\"button\" + 0.014*\"work\" + 0.014*\"buffer\" + 0.013*\"devop\" + 0.013*\"resiz\"\n",
      "\n",
      "Topic 31:\n",
      "0.062*\"spring\" + 0.053*\"boot\" + 0.046*\"nativ\" + 0.036*\"date\" + 0.032*\"react\" + 0.028*\"entiti\" + 0.018*\"camera\" + 0.017*\"content\" + 0.014*\"groupbi\" + 0.014*\"direct\" + 0.013*\"correct\" + 0.013*\"theme\" + 0.012*\"previou\" + 0.011*\"analyt\" + 0.010*\"router\"\n",
      "\n",
      "Topic 32:\n",
      "0.067*\"instal\" + 0.029*\"mode\" + 0.024*\"declar\" + 0.024*\"sourc\" + 0.023*\"invalid\" + 0.022*\"build\" + 0.021*\"maco\" + 0.019*\"take\" + 0.018*\"bundl\" + 0.018*\"error\" + 0.017*\"issu\" + 0.016*\"languag\" + 0.016*\"account\" + 0.013*\"fail\" + 0.013*\"bash\"\n",
      "\n",
      "Topic 33:\n",
      "0.056*\"compon\" + 0.031*\"react\" + 0.029*\"style\" + 0.028*\"download\" + 0.027*\"rout\" + 0.021*\"page\" + 0.021*\"angular\" + 0.018*\"materi\" + 0.017*\"url\" + 0.017*\"dictionari\" + 0.017*\"nextj\" + 0.017*\"context\" + 0.017*\"reactj\" + 0.016*\"prop\" + 0.013*\"refresh\"\n",
      "\n",
      "Topic 34:\n",
      "0.039*\"selenium\" + 0.032*\"print\" + 0.031*\"bind\" + 0.028*\"chart\" + 0.028*\"certain\" + 0.023*\"cluster\" + 0.022*\"network\" + 0.021*\"report\" + 0.019*\"port\" + 0.018*\"doubl\" + 0.016*\"cypress\" + 0.015*\"swagger\" + 0.014*\"accept\" + 0.013*\"stuck\" + 0.013*\"edg\"\n",
      "\n",
      "Topic 35:\n",
      "0.038*\"core\" + 0.032*\"cloud\" + 0.028*\"authent\" + 0.027*\"aspnet\" + 0.026*\"servic\" + 0.026*\"swift\" + 0.025*\"googl\" + 0.024*\"implement\" + 0.024*\"app\" + 0.022*\"notif\" + 0.020*\"azur\" + 0.017*\"firebas\" + 0.015*\"terraform\" + 0.014*\"web\" + 0.014*\"api\"\n",
      "\n",
      "Topic 36:\n",
      "0.034*\"browser\" + 0.034*\"vector\" + 0.027*\"directori\" + 0.023*\"target\" + 0.023*\"comput\" + 0.023*\"scrape\" + 0.022*\"config\" + 0.017*\"alloc\" + 0.017*\"give\" + 0.017*\"regist\" + 0.016*\"track\" + 0.016*\"multiprocess\" + 0.016*\"valid\" + 0.015*\"manual\" + 0.013*\"fine\"\n",
      "\n",
      "Topic 37:\n",
      "0.035*\"integr\" + 0.034*\"stop\" + 0.032*\"word\" + 0.030*\"shini\" + 0.028*\"node\" + 0.028*\"icon\" + 0.020*\"updat\" + 0.019*\"current\" + 0.019*\"r\" + 0.018*\"state\" + 0.016*\"warn\" + 0.016*\"problem\" + 0.015*\"amplifi\" + 0.014*\"rmarkdown\" + 0.013*\"mutat\"\n",
      "\n",
      "Topic 38:\n",
      "0.069*\"column\" + 0.052*\"datafram\" + 0.045*\"panda\" + 0.036*\"valu\" + 0.030*\"condit\" + 0.023*\"base\" + 0.022*\"extract\" + 0.019*\"empti\" + 0.017*\"multipl\" + 0.017*\"cell\" + 0.017*\"dataset\" + 0.016*\"separ\" + 0.015*\"string\" + 0.014*\"list\" + 0.014*\"uniqu\"\n",
      "\n",
      "Topic 39:\n",
      "0.037*\"resolv\" + 0.031*\"share\" + 0.029*\"link\" + 0.027*\"compil\" + 0.025*\"frame\" + 0.022*\"background\" + 0.021*\"could\" + 0.019*\"cach\" + 0.019*\"project\" + 0.018*\"screen\" + 0.018*\"requir\" + 0.016*\"mobil\" + 0.015*\"storag\" + 0.014*\"font\" + 0.014*\"develop\"\n",
      "\n",
      "Topic 40:\n",
      "0.034*\"css\" + 0.024*\"structur\" + 0.022*\"tailwind\" + 0.021*\"timeout\" + 0.021*\"bootstrap\" + 0.021*\"relationship\" + 0.019*\"exist\" + 0.019*\"address\" + 0.019*\"bottom\" + 0.018*\"password\" + 0.018*\"repo\" + 0.018*\"vuej\" + 0.017*\"locat\" + 0.017*\"symbol\" + 0.015*\"much\"\n",
      "\n",
      "Topic 41:\n",
      "0.034*\"tensorflow\" + 0.032*\"migrat\" + 0.032*\"iter\" + 0.028*\"member\" + 0.028*\"detect\" + 0.024*\"export\" + 0.021*\"index\" + 0.019*\"indic\" + 0.019*\"hide\" + 0.019*\"setup\" + 0.019*\"auto\" + 0.016*\"reactn\" + 0.016*\"datetim\" + 0.014*\"loss\" + 0.014*\"recyclerview\"\n",
      "\n"
     ]
    }
   ],
   "source": [
    "# Sélectionner le modèle avec la meilleure cohérence\n",
    "optimal_model = model_list[coherence_values.index(max(coherence_values))]\n",
    "\n",
    "# Afficher les sujets\n",
    "def display_topics(model, num_words):\n",
    "    for idx, topic in model.print_topics(num_topics=-1, num_words=num_words):\n",
    "        print(f\"Topic {idx}:\\n{topic}\\n\")\n",
    "\n",
    "display_topics(optimal_model, num_words=15)"
   ]
  },
  {
   "cell_type": "code",
   "execution_count": 27,
   "metadata": {},
   "outputs": [],
   "source": [
    "# Assigner les sujets aux questions et récupérer plusieurs sujets par question\n",
    "topic_assignments = optimal_model.get_document_topics(tfidf_corpus, minimum_probability=0.025)\n",
    "data['assigned_topics'] = [sorted(doc, key=lambda x: x[1], reverse=True) for doc in topic_assignments]\n",
    "\n",
    "# Sélectionner les top N sujets (par exemple, top 3 sujets) pour chaque question\n",
    "top_n = 3\n",
    "data['top_topics'] = data['assigned_topics'].apply(lambda x: [topic[0] for topic in x[:top_n]])\n"
   ]
  },
  {
   "cell_type": "code",
   "execution_count": 23,
   "metadata": {},
   "outputs": [
    {
     "data": {
      "image/png": "[encoded data removed]",
      "text/plain": [
       "<Figure size 1200x600 with 1 Axes>"
      ]
     },
     "metadata": {},
     "output_type": "display_data"
    }
   ],
   "source": [
    "# Sélectionner le sujet le plus significatif pour chaque question\n",
    "data['most_significant_topic'] = data['assigned_topics'].apply(lambda x: x[0][0])\n",
    "\n",
    "# Calculer la répartition des sujets\n",
    "topic_distribution = data['most_significant_topic'].value_counts().sort_index()\n",
    "\n",
    "# Afficher la répartition des sujets\n",
    "plt.figure(figsize=(12, 6))\n",
    "plt.bar(topic_distribution.index, topic_distribution.values)\n",
    "plt.xlabel('Topic')\n",
    "plt.ylabel('Number of Documents')\n",
    "plt.title('Topic Distribution')\n",
    "plt.show()"
   ]
  },
  {
   "cell_type": "markdown",
   "metadata": {},
   "source": [
    "En se basant sur les valeur les plus represnetatitve des topic nous avons la correspondance : "
   ]
  },
  {
   "cell_type": "code",
   "execution_count": 32,
   "metadata": {},
   "outputs": [],
   "source": [
    "topic_to_tag = {\n",
    "    0: \"null\",\n",
    "    1: \"loop\",\n",
    "    2: \"import\",\n",
    "    3: \"error-handling\",\n",
    "    4: \"optimization\",\n",
    "    5: \"logging\",\n",
    "    6: \"authentication\",\n",
    "    7: \"xcode\",\n",
    "    8: \"database\",\n",
    "    9: \"rendering\",\n",
    "    10: \"api\",\n",
    "    11: \"multithreading\",\n",
    "    12: \"python\",\n",
    "    13: \"pyspark\",\n",
    "    14: \"swiftui\",\n",
    "    15: \"websockets\",\n",
    "    16: \"gradle\",\n",
    "    17: \"sql\",\n",
    "    18: \"testing\",\n",
    "    19: \"vscode\",\n",
    "    20: \"debugging\",\n",
    "    21: \"numpy\",\n",
    "    22: \"android\",\n",
    "    23: \"nestjs\",\n",
    "    24: \"mysql\",\n",
    "    25: \"git\",\n",
    "    26: \"backend\",\n",
    "    27: \"plotting\",\n",
    "    28: \"graphql\",\n",
    "    29: \"laravel\",\n",
    "    30: \"testing\",\n",
    "    31: \"spring-boot\",\n",
    "    32: \"error-handling\",\n",
    "    33: \"react\",\n",
    "    34: \"testing\",\n",
    "    35: \"cloud\",\n",
    "    36: \"web-scraping\",\n",
    "    37: \"node.js\",\n",
    "    38: \"pandas\",\n",
    "    39: \"performance\",\n",
    "    40: \"css\",\n",
    "    41: \"tensorflow\",\n",
    "    42: \"api\"\n",
    "}"
   ]
  },
  {
   "cell_type": "code",
   "execution_count": 34,
   "metadata": {},
   "outputs": [
    {
     "name": "stdout",
     "output_type": "stream",
     "text": [
      "                           Tags                          tags_estimated\n",
      "0                  [c++, c++20]                   [react, web-scraping]\n",
      "1         [javascript, reactjs]                 [react, error-handling]\n",
      "3                [ios, flutter]                     [cloud, websockets]\n",
      "4   [python, pandas, dataframe]                [pandas, authentication]\n",
      "5       [python, pandas, numpy]          [error-handling, graphql, git]\n",
      "6                           [c]                 [web-scraping, swiftui]\n",
      "7       [javascript, html, css]  [debugging, performance, web-scraping]\n",
      "8                  [python-3.x]            [performance, gradle, xcode]\n",
      "9                      [django]         [testing, spring-boot, testing]\n",
      "10         [python, python-3.x]          [vscode, import, web-scraping]\n"
     ]
    }
   ],
   "source": [
    "# Mapper les identifiants des sujets aux tags\n",
    "data['tags_estimated'] = data['top_topics'].apply(lambda topics: [topic_to_tag.get(topic, 'unknown') for topic in topics])\n",
    "\n",
    "# Sauvegarder le résultat\n",
    "data.to_csv('tagged_questions.csv', index=False)\n",
    "\n",
    "# Afficher quelques exemples\n",
    "print(data[['Tags', 'tags_estimated']].head(10))"
   ]
  },
  {
   "cell_type": "code",
   "execution_count": 44,
   "metadata": {},
   "outputs": [],
   "source": [
    "import os\n",
    "save_directory = \"./models/lda/\"\n",
    "if not os.path.exists(save_directory):\n",
    "    os.makedirs(save_directory)\n",
    "\n",
    "# Sauvegarder le modèle LDA\n",
    "model_path = os.path.join(save_directory, \"lda_model\")\n",
    "optimal_model.save(model_path)"
   ]
  }
 ],
 "metadata": {
  "kernelspec": {
   "display_name": "hugface",
   "language": "python",
   "name": "python3"
  },
  "language_info": {
   "codemirror_mode": {
    "name": "ipython",
    "version": 3
   },
   "file_extension": ".py",
   "mimetype": "text/x-python",
   "name": "python",
   "nbconvert_exporter": "python",
   "pygments_lexer": "ipython3",
   "version": "3.11.5"
  }
 },
 "nbformat": 4,
 "nbformat_minor": 2
}
